{
 "metadata": {
  "language_info": {
   "codemirror_mode": {
    "name": "ipython",
    "version": 3
   },
   "file_extension": ".py",
   "mimetype": "text/x-python",
   "name": "python",
   "nbconvert_exporter": "python",
   "pygments_lexer": "ipython3",
   "version": "3.9.2-final"
  },
  "orig_nbformat": 2,
  "kernelspec": {
   "name": "python3",
   "display_name": "Python 3.9.2 64-bit",
   "metadata": {
    "interpreter": {
     "hash": "22f6b988c804dbe7f5299c324c699b3fe3ab9f3e2c9d2f5abcd1a724d93c420b"
    }
   }
  }
 },
 "nbformat": 4,
 "nbformat_minor": 2,
 "cells": [
  {
   "cell_type": "code",
   "execution_count": 2,
   "metadata": {},
   "outputs": [
    {
     "output_type": "stream",
     "name": "stdout",
     "text": [
      "89\n"
     ]
    }
   ],
   "source": [
    "##1\n",
    "lst=[2,4,64,6,4,9]\n",
    "print(sum(lst))"
   ]
  },
  {
   "cell_type": "code",
   "execution_count": 2,
   "metadata": {},
   "outputs": [
    {
     "output_type": "stream",
     "name": "stdout",
     "text": [
      "[<generator object <genexpr> at 0x000002527CD22B30>]\n"
     ]
    }
   ],
   "source": [
    "##2\n",
    "lst=[2,4,64,6,9]\n",
    "new_lst=[]\n",
    "\n",
    "new_lst.append(i * 3 for i in lst)\n",
    "print(new_lst)"
   ]
  },
  {
   "cell_type": "code",
   "execution_count": null,
   "metadata": {},
   "outputs": [],
   "source": []
  },
  {
   "cell_type": "code",
   "execution_count": 3,
   "metadata": {},
   "outputs": [
    {
     "output_type": "stream",
     "name": "stdout",
     "text": [
      "64\n"
     ]
    }
   ],
   "source": [
    "##3\n",
    "lst=[2,4,64,6,9]\n",
    "print(max(lst))"
   ]
  },
  {
   "cell_type": "code",
   "execution_count": null,
   "metadata": {},
   "outputs": [],
   "source": [
    "##4\n",
    "lst=[2,4,64,6,9]\n",
    "print(min(lst))"
   ]
  },
  {
   "cell_type": "code",
   "execution_count": 3,
   "metadata": {},
   "outputs": [
    {
     "output_type": "stream",
     "name": "stdout",
     "text": [
      "{64, 2, 4, 6, 9}\n"
     ]
    }
   ],
   "source": [
    "##7\n",
    "lst=[2,4,4,64,6,9]\n",
    "print(set(lst))"
   ]
  },
  {
   "cell_type": "code",
   "execution_count": null,
   "metadata": {},
   "outputs": [],
   "source": [
    "##8\n",
    "lst=[2,4,4,64,6,9]\n",
    "print(len(lst))"
   ]
  },
  {
   "cell_type": "code",
   "execution_count": null,
   "metadata": {},
   "outputs": [],
   "source": [
    "##9\n",
    "lst=[2,4,4,64,6,9]\n",
    "new_lst=lst\n",
    "print(new_lst)"
   ]
  },
  {
   "cell_type": "code",
   "execution_count": 4,
   "metadata": {},
   "outputs": [
    {
     "output_type": "stream",
     "name": "stdout",
     "text": [
      "Green\nblack\nred\nwhite\nblue\n"
     ]
    }
   ],
   "source": [
    "##10\n",
    "lst=[\"Green\",\"black\",\"red\",\"white\",\"blue\"]\n",
    "n=0\n",
    "for i in lst:\n",
    "   if(len(i)>n):\n",
    "      print(i)\n",
    "    "
   ]
  },
  {
   "cell_type": "code",
   "execution_count": 1,
   "metadata": {},
   "outputs": [
    {
     "output_type": "stream",
     "name": "stdout",
     "text": [
      "data is common\n"
     ]
    }
   ],
   "source": [
    "##11\n",
    "lst=[2,16,4,4,7,9]\n",
    "lst1=[2,4,4,64,6,9]\n",
    "a_lst=set(lst)\n",
    "b_lst1=set(lst1)\n",
    "if(a_lst & b_lst1):\n",
    "    print(\"data is common\")\n",
    "else:\n",
    "    \n",
    "    print(\"No data is common\")"
   ]
  },
  {
   "cell_type": "code",
   "execution_count": 10,
   "metadata": {},
   "outputs": [],
   "source": [
    "##12\n",
    "lst=[\"Green\",\"black\",\"red\",\"white\",\"blue\",\"yellow\",\"rainbow\"]\n",
    "\n"
   ]
  },
  {
   "cell_type": "code",
   "execution_count": 9,
   "metadata": {},
   "outputs": [
    {
     "output_type": "stream",
     "name": "stdout",
     "text": [
      "[[['*', '*', '*', '*', '*', '*'], ['*', '*', '*', '*', '*', '*'], ['*', '*', '*', '*', '*', '*'], ['*', '*', '*', '*', '*', '*']], [['*', '*', '*', '*', '*', '*'], ['*', '*', '*', '*', '*', '*'], ['*', '*', '*', '*', '*', '*'], ['*', '*', '*', '*', '*', '*']], [['*', '*', '*', '*', '*', '*'], ['*', '*', '*', '*', '*', '*'], ['*', '*', '*', '*', '*', '*'], ['*', '*', '*', '*', '*', '*']]]\n"
     ]
    }
   ],
   "source": [
    "lst = [[ ['*' for col in range(6)] for col in range(4)] for row in range(3)]\n",
    "print(lst)"
   ]
  },
  {
   "cell_type": "code",
   "execution_count": 11,
   "metadata": {},
   "outputs": [
    {
     "output_type": "stream",
     "name": "stdout",
     "text": [
      "4\n10\n57\n3\n7\n[8, 28, 57, 3, 7]\n"
     ]
    }
   ],
   "source": [
    "##14\n",
    "num=[4,8,10,28,57,3,7]\n",
    "for i in num :\n",
    "    print(i)\n",
    "    if(i%2==0):\n",
    "        num.remove(i)\n",
    "print(num)"
   ]
  },
  {
   "cell_type": "code",
   "execution_count": 16,
   "metadata": {},
   "outputs": [
    {
     "output_type": "stream",
     "name": "stdout",
     "text": [
      "[6, 1, 8, 10, 4]\n"
     ]
    }
   ],
   "source": [
    "##15\n",
    "import random as r\n",
    "\n",
    "n = 5\n",
    "L = [ r.randint(1,10) for i in range(n)]\n",
    "print(L)"
   ]
  },
  {
   "cell_type": "code",
   "execution_count": null,
   "metadata": {},
   "outputs": [],
   "source": [
    "##16\n",
    "lst=[]\n",
    "for i in range(1,21):\n",
    "    lst.append(i**2)\n",
    "print(lst[:5])\n",
    "print(lst[-5:])\n",
    "\n",
    "\n"
   ]
  },
  {
   "cell_type": "code",
   "execution_count": 23,
   "metadata": {},
   "outputs": [
    {
     "output_type": "stream",
     "name": "stdout",
     "text": [
      "[(2,), (4,), (4,), (64,), (6,), (9,)]\n[(2, 4), (2, 4), (2, 64), (2, 6), (2, 9), (4, 4), (4, 64), (4, 6), (4, 9), (4, 64), (4, 6), (4, 9), (64, 6), (64, 9), (6, 9)]\n[(2, 4, 4), (2, 4, 64), (2, 4, 6), (2, 4, 9), (2, 4, 64), (2, 4, 6), (2, 4, 9), (2, 64, 6), (2, 64, 9), (2, 6, 9), (4, 4, 64), (4, 4, 6), (4, 4, 9), (4, 64, 6), (4, 64, 9), (4, 6, 9), (4, 64, 6), (4, 64, 9), (4, 6, 9), (64, 6, 9)]\n[(2, 4, 4, 64), (2, 4, 4, 6), (2, 4, 4, 9), (2, 4, 64, 6), (2, 4, 64, 9), (2, 4, 6, 9), (2, 4, 64, 6), (2, 4, 64, 9), (2, 4, 6, 9), (2, 64, 6, 9), (4, 4, 64, 6), (4, 4, 64, 9), (4, 4, 6, 9), (4, 64, 6, 9), (4, 64, 6, 9)]\n[(2, 4, 4, 64, 6), (2, 4, 4, 64, 9), (2, 4, 4, 6, 9), (2, 4, 64, 6, 9), (2, 4, 64, 6, 9), (4, 4, 64, 6, 9)]\n"
     ]
    }
   ],
   "source": [
    "##18\n",
    "import itertools as it\n",
    "lst=[2,4,4,64,6,9]\n",
    "for i in range(1,len(lst)):\n",
    "    x=list(it.combinations(lst,i))\n",
    "    print(x)"
   ]
  },
  {
   "cell_type": "code",
   "execution_count": 26,
   "metadata": {},
   "outputs": [
    {
     "output_type": "stream",
     "name": "stdout",
     "text": [
      "deer\nbat\n['Yas', 'amazn']\n"
     ]
    }
   ],
   "source": [
    "##19\n",
    "lst1=[\"Yas\",\"amazn\",\"cat\"]\n",
    "lst2=[\"deer\",\"bat\",\"cat\"]\n",
    "for i in lst2:\n",
    "    if(i in lst1):\n",
    "        lst1.remove(i)\n",
    "        pass\n",
    "        \n",
    "    else:\n",
    "        print(i)\n",
    "print(lst1)\n"
   ]
  },
  {
   "cell_type": "code",
   "execution_count": null,
   "metadata": {},
   "outputs": [],
   "source": [
    "##20\n",
    "lst = [4,8, 10, 28, 57, 3, 7]\n",
    "print(lst.index(8))"
   ]
  },
  {
   "cell_type": "code",
   "execution_count": null,
   "metadata": {},
   "outputs": [],
   "source": [
    "##21\n",
    "lst=[\"Green\",\"black\"]\n",
    "new_list=\"\".join(lst)\n",
    "print(new_list)"
   ]
  },
  {
   "cell_type": "code",
   "execution_count": null,
   "metadata": {},
   "outputs": [],
   "source": [
    "##22\n",
    "lst=[\"Green\",\"black\"]\n",
    "lst.index(\"Green\")"
   ]
  },
  {
   "cell_type": "code",
   "execution_count": null,
   "metadata": {},
   "outputs": [],
   "source": [
    "##24\n",
    "L1 = [3, 6, 9]\n",
    "L2 = [12, 5, 3, 2]\n",
    "L3=L1+L2\n",
    "print(L3)"
   ]
  },
  {
   "cell_type": "code",
   "execution_count": null,
   "metadata": {},
   "outputs": [],
   "source": [
    "##25\n",
    "L = [3, 6, 9, 12, 5, 3, 2]\n",
    "\n",
    "print ( L.index(6))"
   ]
  },
  {
   "cell_type": "code",
   "execution_count": null,
   "metadata": {},
   "outputs": [],
   "source": [
    "##25\n",
    "import random as r\n",
    "\n",
    "n = 5\n",
    "L = [ r.randint(1,10) for i in range(n)]\n",
    "print(L)"
   ]
  },
  {
   "cell_type": "code",
   "execution_count": null,
   "metadata": {},
   "outputs": [],
   "source": [
    "##27\n",
    "L = [ 6, 9, 12, 5, 3, 2]\n",
    "L.sort()\n",
    "print(L)\n",
    "print(L[-2])\n"
   ]
  },
  {
   "cell_type": "code",
   "execution_count": null,
   "metadata": {},
   "outputs": [],
   "source": [
    "##28\n",
    "L = [ 6, 9, 12, 5, 3, 2]\n",
    "L.sort()\n",
    "print(L)\n",
    "print(L[2])"
   ]
  },
  {
   "cell_type": "code",
   "execution_count": 4,
   "metadata": {},
   "outputs": [
    {
     "output_type": "stream",
     "name": "stdout",
     "text": [
      "32\n65\n43\n45\n"
     ]
    }
   ],
   "source": [
    "##29\n",
    "lst=[32,32,43,65,43,45,65]\n",
    "lst_set=set(lst)\n",
    "lst=lst_set\n",
    "for i in lst:\n",
    "    print(i)"
   ]
  },
  {
   "cell_type": "code",
   "execution_count": null,
   "metadata": {},
   "outputs": [],
   "source": [
    "##31\n",
    "import random as r\n",
    "\n",
    "n = 5\n",
    "\n",
    "L = [ r.randint(1,10) for i in range(n)]\n",
    "print(L)\n",
    "\n",
    "print(L.count(2))"
   ]
  },
  {
   "cell_type": "code",
   "execution_count": null,
   "metadata": {},
   "outputs": [],
   "source": [
    "#35\n",
    "lst=['p','q']\n",
    "n=0\n",
    "new_lst=[]\n",
    "for i in range(0,n):\n",
    "    n=i+lst\n",
    "    new_lst=lst*n\n",
    "print(new_lst)"
   ]
  },
  {
   "cell_type": "code",
   "execution_count": null,
   "metadata": {},
   "outputs": [],
   "source": [
    "#36\n",
    "lst=[32,32,43,65,43,45,65]\n",
    "print(id(lst))"
   ]
  },
  {
   "cell_type": "code",
   "execution_count": null,
   "metadata": {},
   "outputs": [],
   "source": [
    "#37\n",
    "lst=[32,32,43,65,43,45,65]\n",
    "lst1=[2,32,3,6,43,45,5]\n",
    "print(set(lst)&set(lst1))"
   ]
  },
  {
   "cell_type": "code",
   "execution_count": null,
   "metadata": {},
   "outputs": [],
   "source": [
    "#38\n",
    "lst=[32,32,43,65,43,45,65]\n",
    "print(lst.index(32)+1)"
   ]
  },
  {
   "cell_type": "code",
   "execution_count": 5,
   "metadata": {},
   "outputs": [
    {
     "output_type": "stream",
     "name": "stdout",
     "text": [
      "45\n"
     ]
    }
   ],
   "source": [
    "#39\n",
    "lst=[\"4\",\"5\",]\n",
    "new_lst=\"\".join(lst)\n",
    "print(new_lst)"
   ]
  },
  {
   "cell_type": "code",
   "execution_count": 6,
   "metadata": {},
   "outputs": [
    {
     "output_type": "stream",
     "name": "stdout",
     "text": [
      "['2', '3']\n"
     ]
    }
   ],
   "source": [
    "##40\n",
    "lst=[\"2\",\"3\"]\n",
    "new_lst=[]\n",
    "for char in lst:\n",
    "    new_lst.append(char)\n",
    "print(new_lst)\n",
    "\n",
    "    "
   ]
  },
  {
   "cell_type": "code",
   "execution_count": 9,
   "metadata": {},
   "outputs": [],
   "source": [
    "lst=str(\"my name is Huzaifa i study in 12\")\n",
    "num=[]\n",
    "for i in lst.split():\n",
    "    if i.isdigit():\n",
    "        num.append(int[i])\n",
    "    else:\n",
    "        break"
   ]
  },
  {
   "cell_type": "code",
   "execution_count": 10,
   "metadata": {},
   "outputs": [],
   "source": [
    "lst=str(\"my name is Huzaifa i study in 12\")\n",
    "num=[]\n",
    "for i in lst.split():\n",
    "    if i.isdigit():\n",
    "        num.append(int[i])\n",
    "    else:\n",
    "        break"
   ]
  },
  {
   "cell_type": "code",
   "execution_count": 5,
   "metadata": {},
   "outputs": [],
   "source": [
    "lst=str(\"my name is Huzaifa i study in 12\")\n",
    "num=[]\n",
    "for i in lst.split():\n",
    "    if i.isdigit():\n",
    "        num.append(int[i])\n",
    "    else:\n",
    "        break"
   ]
  },
  {
   "cell_type": "code",
   "execution_count": 4,
   "metadata": {},
   "outputs": [
    {
     "output_type": "stream",
     "name": "stdout",
     "text": [
      "hello\n"
     ]
    }
   ],
   "source": [
    "print(\"hello\")"
   ]
  },
  {
   "cell_type": "code",
   "execution_count": 15,
   "metadata": {},
   "outputs": [
    {
     "output_type": "error",
     "ename": "TypeError",
     "evalue": "object of type '_io.TextIOWrapper' has no len()",
     "traceback": [
      "\u001b[1;31m---------------------------------------------------------------------------\u001b[0m",
      "\u001b[1;31mTypeError\u001b[0m                                 Traceback (most recent call last)",
      "\u001b[1;32m<ipython-input-15-a86849c68153>\u001b[0m in \u001b[0;36m<module>\u001b[1;34m\u001b[0m\n\u001b[0;32m      5\u001b[0m \u001b[1;32mfor\u001b[0m \u001b[0mi\u001b[0m \u001b[1;32min\u001b[0m \u001b[0mrange\u001b[0m\u001b[1;33m(\u001b[0m\u001b[1;36m0\u001b[0m\u001b[1;33m,\u001b[0m\u001b[1;36m501\u001b[0m\u001b[1;33m)\u001b[0m\u001b[1;33m:\u001b[0m\u001b[1;33m\u001b[0m\u001b[1;33m\u001b[0m\u001b[0m\n\u001b[0;32m      6\u001b[0m     \u001b[0mtext_file\u001b[0m \u001b[1;33m=\u001b[0m \u001b[0mopen\u001b[0m\u001b[1;33m(\u001b[0m\u001b[1;34m'file.txt'\u001b[0m\u001b[1;33m,\u001b[0m\u001b[1;34m'w'\u001b[0m\u001b[1;33m)\u001b[0m\u001b[1;33m\u001b[0m\u001b[1;33m\u001b[0m\u001b[0m\n\u001b[1;32m----> 7\u001b[1;33m     \u001b[1;32mfor\u001b[0m \u001b[0mi\u001b[0m \u001b[1;32min\u001b[0m \u001b[0mrange\u001b[0m\u001b[1;33m(\u001b[0m\u001b[0mlen\u001b[0m\u001b[1;33m(\u001b[0m\u001b[0mtext_file\u001b[0m\u001b[1;33m)\u001b[0m\u001b[1;33m)\u001b[0m\u001b[1;33m:\u001b[0m\u001b[1;33m\u001b[0m\u001b[1;33m\u001b[0m\u001b[0m\n\u001b[0m\u001b[0;32m      8\u001b[0m         \u001b[0mtext_file\u001b[0m\u001b[1;33m.\u001b[0m\u001b[0mwritelines\u001b[0m\u001b[1;33m(\u001b[0m\u001b[1;34m''\u001b[0m\u001b[1;33m.\u001b[0m\u001b[0mjoin\u001b[0m\u001b[1;33m(\u001b[0m\u001b[0mrandom\u001b[0m\u001b[1;33m.\u001b[0m\u001b[0mchoices\u001b[0m\u001b[1;33m(\u001b[0m\u001b[0mstring\u001b[0m\u001b[1;33m.\u001b[0m\u001b[0mascii_uppercase\u001b[0m \u001b[1;33m+\u001b[0m \u001b[0mstring\u001b[0m\u001b[1;33m.\u001b[0m\u001b[0mdigits\u001b[0m\u001b[1;33m,\u001b[0m \u001b[0mk\u001b[0m \u001b[1;33m=\u001b[0m \u001b[0mN\u001b[0m\u001b[1;33m)\u001b[0m\u001b[1;33m)\u001b[0m\u001b[1;33m)\u001b[0m\u001b[1;33m\u001b[0m\u001b[1;33m\u001b[0m\u001b[0m\n\u001b[0;32m      9\u001b[0m \u001b[0mtext_file\u001b[0m\u001b[1;33m.\u001b[0m\u001b[0mwritelines\u001b[0m\u001b[1;33m(\u001b[0m\u001b[0mtext_file\u001b[0m\u001b[1;33m)\u001b[0m\u001b[1;33m\u001b[0m\u001b[1;33m\u001b[0m\u001b[0m\n",
      "\u001b[1;31mTypeError\u001b[0m: object of type '_io.TextIOWrapper' has no len()"
     ]
    }
   ],
   "source": [
    "import string\n",
    "import random\n",
    "N=20\n",
    "for i in range(0,501):\n",
    "    text_file = open('file.txt'+str(i),'w')\n",
    "    text_file.writelines(''.join(random.choices(string.ascii_uppercase + string.digits, k = N)))\n",
    "    text_file.close()"
   ]
  },
  {
   "cell_type": "code",
   "execution_count": 16,
   "metadata": {},
   "outputs": [
    {
     "output_type": "error",
     "ename": "TypeError",
     "evalue": "unsupported operand type(s) for +: 'int' and 'str'",
     "traceback": [
      "\u001b[1;31m---------------------------------------------------------------------------\u001b[0m",
      "\u001b[1;31mTypeError\u001b[0m                                 Traceback (most recent call last)",
      "\u001b[1;32m<ipython-input-16-24c7a73b6828>\u001b[0m in \u001b[0;36m<module>\u001b[1;34m\u001b[0m\n\u001b[0;32m      3\u001b[0m    \u001b[0mos\u001b[0m\u001b[1;33m.\u001b[0m\u001b[0mmakedirs\u001b[0m\u001b[1;33m(\u001b[0m\u001b[1;34m\"numbers\"\u001b[0m\u001b[1;33m)\u001b[0m\u001b[1;33m\u001b[0m\u001b[1;33m\u001b[0m\u001b[0m\n\u001b[0;32m      4\u001b[0m \u001b[1;32mfor\u001b[0m \u001b[0mi\u001b[0m \u001b[1;32min\u001b[0m \u001b[0mrange\u001b[0m\u001b[1;33m(\u001b[0m\u001b[1;36m0\u001b[0m\u001b[1;33m,\u001b[0m\u001b[1;36m501\u001b[0m\u001b[1;33m)\u001b[0m\u001b[1;33m:\u001b[0m\u001b[1;33m\u001b[0m\u001b[1;33m\u001b[0m\u001b[0m\n\u001b[1;32m----> 5\u001b[1;33m    \u001b[1;32mwith\u001b[0m \u001b[0mopen\u001b[0m\u001b[1;33m(\u001b[0m\u001b[0mi\u001b[0m \u001b[1;33m+\u001b[0m \u001b[1;34m\".txt\"\u001b[0m\u001b[1;33m,\u001b[0m \u001b[1;34m\"w\"\u001b[0m\u001b[1;33m)\u001b[0m \u001b[1;32mas\u001b[0m \u001b[0mf\u001b[0m\u001b[1;33m:\u001b[0m\u001b[1;33m\u001b[0m\u001b[1;33m\u001b[0m\u001b[0m\n\u001b[0m\u001b[0;32m      6\u001b[0m        \u001b[0mf\u001b[0m\u001b[1;33m.\u001b[0m\u001b[0mwritelines\u001b[0m\u001b[1;33m(\u001b[0m\u001b[0mnumbers\u001b[0m\u001b[1;33m)\u001b[0m\u001b[1;33m\u001b[0m\u001b[1;33m\u001b[0m\u001b[0m\n",
      "\u001b[1;31mTypeError\u001b[0m: unsupported operand type(s) for +: 'int' and 'str'"
     ]
    }
   ],
   "source": []
  },
  {
   "cell_type": "code",
   "execution_count": 1,
   "metadata": {},
   "outputs": [
    {
     "output_type": "stream",
     "name": "stdout",
     "text": [
      "<_io.TextIOWrapper name='guru99.txt' mode='w' encoding='cp1252'>\n"
     ]
    }
   ],
   "source": [
    "for i in ran\n",
    "f= open(\"guru99.txt\",\"w\")\n",
    "for i in range():\n",
    "    f.write(\"This is line %d\" % (i+1))\n",
    "print(f)\n",
    "f.close()\n",
    "    "
   ]
  },
  {
   "cell_type": "code",
   "execution_count": 1,
   "metadata": {},
   "outputs": [
    {
     "output_type": "stream",
     "name": "stdout",
     "text": [
      "Union of the arrays: [1, 3, 5, 7, 8, 9]\nintersection of the arrays: [5, 7]\n"
     ]
    }
   ],
   "source": [
    "a=list(map(int,input('Enter elements of first list:').split()))\n",
    "b=list(map(int,input('Enter elements of second list:').split()))\n",
    "\n",
    "A=list(set(a)|set(b))\n",
    "B=list(set(a)&set(b))\n",
    "\n",
    "print('Union of the arrays:',A)\n",
    "print('intersection of the arrays:',B)"
   ]
  },
  {
   "cell_type": "code",
   "execution_count": 3,
   "metadata": {},
   "outputs": [
    {
     "output_type": "error",
     "ename": "TypeError",
     "evalue": "raw_input() takes from 1 to 2 positional arguments but 3 were given",
     "traceback": [
      "\u001b[1;31m---------------------------------------------------------------------------\u001b[0m",
      "\u001b[1;31mTypeError\u001b[0m                                 Traceback (most recent call last)",
      "\u001b[1;32m<ipython-input-3-623f8765f39a>\u001b[0m in \u001b[0;36m<module>\u001b[1;34m\u001b[0m\n\u001b[1;32m----> 1\u001b[1;33m \u001b[0ma\u001b[0m\u001b[1;33m=\u001b[0m\u001b[0mlist\u001b[0m\u001b[1;33m(\u001b[0m\u001b[0mmap\u001b[0m\u001b[1;33m(\u001b[0m\u001b[0minput\u001b[0m\u001b[1;33m(\u001b[0m\u001b[0mint\u001b[0m\u001b[1;33m,\u001b[0m\u001b[0minput\u001b[0m\u001b[1;33m(\u001b[0m\u001b[1;34m'Enter elements of first list:'\u001b[0m\u001b[1;33m)\u001b[0m\u001b[1;33m.\u001b[0m\u001b[0msplit\u001b[0m\u001b[1;33m(\u001b[0m\u001b[1;33m)\u001b[0m\u001b[1;33m)\u001b[0m\u001b[1;33m)\u001b[0m\u001b[1;33m)\u001b[0m\u001b[1;33m\u001b[0m\u001b[1;33m\u001b[0m\u001b[0m\n\u001b[0m\u001b[0;32m      2\u001b[0m \u001b[0mb\u001b[0m\u001b[1;33m=\u001b[0m\u001b[0mlist\u001b[0m\u001b[1;33m(\u001b[0m\u001b[0mmap\u001b[0m\u001b[1;33m(\u001b[0m\u001b[0minput\u001b[0m\u001b[1;33m(\u001b[0m\u001b[0mint\u001b[0m\u001b[1;33m,\u001b[0m\u001b[0minput\u001b[0m\u001b[1;33m(\u001b[0m\u001b[1;34m'Enter elements of second list:'\u001b[0m\u001b[1;33m)\u001b[0m\u001b[1;33m.\u001b[0m\u001b[0msplit\u001b[0m\u001b[1;33m(\u001b[0m\u001b[1;33m)\u001b[0m\u001b[1;33m)\u001b[0m\u001b[1;33m)\u001b[0m\u001b[1;33m)\u001b[0m\u001b[1;33m\u001b[0m\u001b[1;33m\u001b[0m\u001b[0m\n\u001b[0;32m      3\u001b[0m \u001b[1;33m\u001b[0m\u001b[0m\n\u001b[0;32m      4\u001b[0m \u001b[0mA\u001b[0m\u001b[1;33m=\u001b[0m\u001b[0mlist\u001b[0m\u001b[1;33m(\u001b[0m\u001b[0mset\u001b[0m\u001b[1;33m(\u001b[0m\u001b[0ma\u001b[0m\u001b[1;33m)\u001b[0m\u001b[1;33m|\u001b[0m\u001b[0mset\u001b[0m\u001b[1;33m(\u001b[0m\u001b[0mb\u001b[0m\u001b[1;33m)\u001b[0m\u001b[1;33m)\u001b[0m\u001b[1;33m\u001b[0m\u001b[1;33m\u001b[0m\u001b[0m\n\u001b[0;32m      5\u001b[0m \u001b[0mB\u001b[0m\u001b[1;33m=\u001b[0m\u001b[0mlist\u001b[0m\u001b[1;33m(\u001b[0m\u001b[0mset\u001b[0m\u001b[1;33m(\u001b[0m\u001b[0ma\u001b[0m\u001b[1;33m)\u001b[0m\u001b[1;33m&\u001b[0m\u001b[0mset\u001b[0m\u001b[1;33m(\u001b[0m\u001b[0mb\u001b[0m\u001b[1;33m)\u001b[0m\u001b[1;33m)\u001b[0m\u001b[1;33m\u001b[0m\u001b[1;33m\u001b[0m\u001b[0m\n",
      "\u001b[1;31mTypeError\u001b[0m: raw_input() takes from 1 to 2 positional arguments but 3 were given"
     ]
    }
   ],
   "source": [
    "a=list(map(int,input('Enter elements of first list:').split())))\n",
    "b=list(map(int,input('Enter elements of second list:').split())))\n",
    "\n",
    "A=list(set(a)|set(b))\n",
    "B=list(set(a)&set(b))\n",
    "\n",
    "print('Union of the arrays:',A)\n",
    "print('intersection of the arrays:',B)"
   ]
  },
  {
   "cell_type": "code",
   "execution_count": 7,
   "metadata": {},
   "outputs": [
    {
     "output_type": "execute_result",
     "data": {
      "text/plain": [
       "[-1, -1, -1]"
      ]
     },
     "metadata": {},
     "execution_count": 7
    }
   ],
   "source": [
    "list(map(lambda x, y: y-x, [2, 4, 6], [1, 3, 5]))"
   ]
  },
  {
   "cell_type": "code",
   "execution_count": 3,
   "metadata": {},
   "outputs": [
    {
     "output_type": "stream",
     "name": "stdout",
     "text": [
      "['2']\n"
     ]
    }
   ],
   "source": [
    "a=[]\n",
    "b=[]\n",
    "a=[x for x in input(\"Enter list1 : \").split()]\n",
    "b=[x for x in input(\"Enter list2 : \").split()]\n",
    "co=[]\n",
    "for i in a:\n",
    "    if i in b:##what if i take another for loop\n",
    "        co.append(i)\n",
    "print(co)\n"
   ]
  },
  {
   "cell_type": "code",
   "execution_count": 5,
   "metadata": {},
   "outputs": [
    {
     "output_type": "execute_result",
     "data": {
      "text/plain": [
       "[' ', '3', '1', '2', '4']"
      ]
     },
     "metadata": {},
     "execution_count": 5
    }
   ],
   "source": [
    "list1=[x for x in input(\"Enter element :\").split()]\n",
    "list2=[x for x in input(\"Enter element :\").split()]\n",
    "list(set(list1)|set(list2))\n"
   ]
  },
  {
   "cell_type": "code",
   "execution_count": null,
   "metadata": {},
   "outputs": [],
   "source": [
    "##move all zeros to end of list\n",
    "a = [1, 2, 0, 0, 0, 3, 6]\n",
    "temp = []\n",
    "zeros = []\n",
    "\n",
    "for i in range(len(a)):\n",
    "    if a[i] !=0:\n",
    "        temp.append(a[i])\n",
    "    else:\n",
    "        zeros.append(a[i])\n",
    "\n",
    "print(temp+zeros)"
   ]
  },
  {
   "cell_type": "code",
   "execution_count": 6,
   "metadata": {},
   "outputs": [
    {
     "output_type": "stream",
     "name": "stdout",
     "text": [
      "['2', '1', '3']\n"
     ]
    }
   ],
   "source": [
    "list1=[x for x in input(\"Enter element :\").split()]\n",
    "l=list(set(list1))\n",
    "print(l)"
   ]
  },
  {
   "cell_type": "code",
   "execution_count": 6,
   "metadata": {},
   "outputs": [
    {
     "output_type": "stream",
     "name": "stdout",
     "text": [
      "{'ssid': 'Mohd Javed', 'password': '12345678'}\n{'ssid': 'Honor 9 Lite', 'password': 'ruhulkasmiri'}\n{'ssid': 'OCEAN@NABEEL', 'password': 'spider@1989'}\n{'ssid': 'Galaxy M31BBDD', 'password': 'jkpe4227'}\n{'ssid': 'Ocean@faiz', 'password': 'spider@1989'}\n{'ssid': 'Galaxy A10s5927', 'password': 'password'}\n{'ssid': 'GIONEE GIONEE A1', 'password': 'ias@2022'}\n{'ssid': 'BlDB-QWRpdHlhIEthcG9vcg', 'password': 'Aditya!23'}\n{'ssid': 'Lenovo K8 Note 6996', 'password': 'Ravinash'}\n{'ssid': 'le bhikari le', 'password': 'nahi bataunga'}\n{'ssid': 'Honor 9 Lite_CDCF', 'password': 'ips@2018'}\n{'ssid': 'BgAAANxMF7wAXwFhGIONEE A1', 'password': 'E4A14112'}\n{'ssid': 'TariqueAP', 'password': 'tariq1234'}\n{'ssid': 'BGDA-cm9ndWU', 'password': 'shadow01'}\n{'ssid': 'Gabbar', 'password': 'meramobilenumber'}\n{'ssid': 'BjKl-aHV6bm9vbmU3 2', 'password': 'ips@2018'}\n"
     ]
    }
   ],
   "source": [
    "import subprocess\n",
    "\n",
    "# Import the re module so that we can make use of regular expressions. \n",
    "import re\n",
    "\n",
    "# Python allows us to run system commands by using a function provided by the subprocess module \n",
    "# (subprocess.run(<list of command line arguments goes here>, <specify the second argument if you want to capture the output>))\n",
    "# The script is a parent process and creates a child process which runs the system command, \n",
    "# and will only continue once the child process has completed.\n",
    "# To save the contents that gets sent to the standard output stream (the terminal) \n",
    "# we have to specify that we want to capture the output, \n",
    "# so we specify the second argument as capture_output = True. \n",
    "# This information gets stored in the stdout attribute. \n",
    "# The information is stored in bytes and we need to decode it to Unicode \n",
    "# before we use it as a String in Python.\n",
    "command_output = subprocess.run([\"netsh\", \"wlan\", \"show\", \"profiles\"], capture_output = True).stdout.decode()\n",
    "\n",
    "# We imported the re module so that we can make use of regular expressions. \n",
    "# We want to find all the Wifi names which is always listed after \"ALL User Profile     :\". \n",
    "# In the regular expression we create a group of all characters until the return escape sequence (\\r) appears.\n",
    "profile_names = (re.findall(\"All User Profile     : (.*)\\r\", command_output))\n",
    "\n",
    "# We create an empty list outside of the loop where dictionaries with all the wifi \n",
    "# username and passwords will be saved.\n",
    "wifi_list = list()\n",
    "\n",
    "# If we didn't find profile names we didn't have any wifi connections, \n",
    "# so we only run the part to check for the details of the wifi and \n",
    "# whether we can get their passwords in this part.\n",
    "if len(profile_names) != 0:\n",
    "    for name in profile_names:\n",
    "        # Every wifi connection will need its own dictionary which will be appended to the wifi_list\n",
    "        wifi_profile = dict()\n",
    "        # We now run a more specific command to see the information about the specific wifi connection \n",
    "        # and if the Security key is not absent we can possibly get the password.\n",
    "        profile_info = subprocess.run([\"netsh\", \"wlan\", \"show\", \"profile\", name], capture_output = True).stdout.decode()\n",
    "        # We use a regular expression to only look for the absent cases so we can ignore them.\n",
    "        if re.search(\"Security key           : Absent\", profile_info):\n",
    "            continue\n",
    "        else:\n",
    "            # Assign the ssid of the wifi profile to the dictionary\n",
    "            wifi_profile[\"ssid\"] = name\n",
    "            # These cases aren't absent and we should run them \"key=clear\" command part to get the password\n",
    "            profile_info_pass = subprocess.run([\"netsh\", \"wlan\", \"show\", \"profile\", name, \"key=clear\"], capture_output = True).stdout.decode()\n",
    "            # Again run the regular expressions to capture the group after the : which is the password\n",
    "            password = re.search(\"Key Content            : (.*)\\r\", profile_info_pass)\n",
    "            # Check if we found a password in the regular expression. All wifi connections will not have passwords.\n",
    "            if password == None:\n",
    "                wifi_profile[\"password\"] = None\n",
    "            else:\n",
    "                # We assign the grouping (Where the password is contained) we are interested to the password key in the dictionary.\n",
    "                wifi_profile[\"password\"] = password[1]\n",
    "            # We append the wifi information to the wifi_list\n",
    "            wifi_list.append(wifi_profile) \n",
    "\n",
    "for x in range(len(wifi_list)):\n",
    "    print(wifi_list[x]) "
   ]
  },
  {
   "cell_type": "code",
   "execution_count": 2,
   "metadata": {},
   "outputs": [
    {
     "output_type": "error",
     "ename": "SyntaxError",
     "evalue": "invalid syntax (<ipython-input-2-4f53587c2cb8>, line 12)",
     "traceback": [
      "\u001b[1;36m  File \u001b[1;32m\"<ipython-input-2-4f53587c2cb8>\"\u001b[1;36m, line \u001b[1;32m12\u001b[0m\n\u001b[1;33m    def register():\u001b[0m\n\u001b[1;37m    ^\u001b[0m\n\u001b[1;31mSyntaxError\u001b[0m\u001b[1;31m:\u001b[0m invalid syntax\n"
     ]
    }
   ],
   "source": [
    "from tkinter import*\n",
    "def register_user():\n",
    "    username_info=username.get()\n",
    "    password_info=password.get()\n",
    "    file=open(username_info+\"*.txt\",\"w\")\n",
    "    file.writte(username_info+\"\\n\")\n",
    "    file.write(password_info)\n",
    "    file.close()\n",
    "    username_entrt.delete(0,END)\n",
    "    password_entry.delete(0,END)\n",
    "    Label(screen1,text=\"Registration Success\",fg=\"green\",font=(\"calibri ,111\").pack()\n",
    "def register():\n",
    "    global screen1\n",
    "    screen1=toplevel(screen)\n",
    "    screen1.titlr(\"Register\")\n",
    "    screen1.geometry(\"300x250\")\n",
    "    global username\n",
    "    global password\n",
    "    global username_entry\n",
    "    global passowrd_entry\n",
    "    username=stringVar()\n",
    "    password=stringvar()\n",
    "    Label(screeen1,txt=\"Please enter details below\").pack()\n",
    "    Label(screen1,txt=\"\").pack()\n",
    "    Label(screen1,txt=\"username * \").pack()\n",
    "    username_entry=Entry(screen1,textvariable = username)\n",
    "    username_entry.pack()\n",
    "    Label=(screen1,text = \"password * \").pack()\n",
    "    password_entry=Entry(screen1,textvariable = password)\n",
    "    password_entry.pack()\n",
    "    Label=(screen1,text = \"\").pack()\n",
    "    Button(screen1,text =\"Register\",eidth =10,height =1, command = register_user).pack\n",
    "def login():\n",
    "    print(\"Login session started\")\n",
    "def main_screen():\n",
    "    global screen\n",
    "    screen=Tk()\n",
    "    screen.geometry(\"300x250\")\n",
    "    screen.title(\"Notes 1.0\")\n",
    "    Label(text=\"Notes 1.0\",bg=\"grey\",width=\"300\",height='2',font=(\"calibiri\" , 13)).pack()\n",
    "    Label(text=\"\").pack()\n",
    "    Button(text =\"Login\",height =\"2\".width =\"30\",command =login).pack()\n",
    "    Label(text=\"\").pacjk()\n",
    "    Button(text=\"Register\",height='2',width=\"30\",command=register).pack()\n",
    "    screen.mainloop()\n",
    "main_screen()\n",
    "\n"
   ]
  },
  {
   "cell_type": "code",
   "execution_count": null,
   "metadata": {},
   "outputs": [],
   "source": [
    "from tkinter import *\n",
    "\n",
    "\n",
    "def register_user():\n",
    "\n",
    "  username_info = username.get()\n",
    "  password_info = password.get()\n",
    "\n",
    "  file=open(username_info+\".txt\", \"w\")\n",
    "  file.write(username_info+\"\\n\")\n",
    "  file.write(password_info)\n",
    "  file.close()\n",
    "\n",
    "  username_entry.delete(0, END)\n",
    "  password_entry.delete(0, END)\n",
    "\n",
    "  Label(screen1, text = \"Registration Sucess\", fg = \"green\" ,font = (\"calibri\", 11)).pack()\n",
    "\n",
    "def register():\n",
    "  global screen1\n",
    "  screen1 = Toplevel(screen)\n",
    "  screen1.title(\"Register\")\n",
    "  screen1.geometry(\"300x250\")\n",
    "  \n",
    "  global username\n",
    "  global password\n",
    "  global username_entry\n",
    "  global password_entry\n",
    "  username = StringVar()\n",
    "  password = StringVar()\n",
    "\n",
    "  Label(screen1, text = \"Please enter details below\").pack()\n",
    "  Label(screen1, text = \"\").pack()\n",
    "  Label(screen1, text = \"Username * \").pack()\n",
    "  username_entry = Entry(screen1, textvariable = username)\n",
    "  username_entry.pack()\n",
    "  Label(screen1, text = \"Password * \").pack()\n",
    "  password_entry =  Entry(screen1, textvariable = password)\n",
    "  password_entry.pack()\n",
    "  Label(screen1, text = \"\").pack()\n",
    "  Button(screen1, text = \"Register\", width = 10, height = 1, command = register_user).pack()\n",
    "\n",
    "def login():\n",
    "  print(\"Login session started\")\n",
    "\n",
    "\n",
    "def main_screen():\n",
    "  global screen\n",
    "  screen = Tk()\n",
    "  screen.geometry(\"300x250\")\n",
    "  screen.title(\"Notes 1.0\")\n",
    "  Label(text = \"Notes 1.0\", bg = \"grey\", width = \"300\", height = \"2\", font = (\"Calibri\", 13)).pack()\n",
    "  Label(text = \"\").pack()\n",
    "  Button(text = \"Login\", height = \"2\", width = \"30\", command = login).pack()\n",
    "  Label(text = \"\").pack()\n",
    "  Button(text = \"Register\",height = \"2\", width = \"30\", command = register).pack()\n",
    "\n",
    "  screen.mainloop()\n",
    "\n",
    "main_screen()\n",
    "  "
   ]
  },
  {
   "cell_type": "code",
   "execution_count": null,
   "metadata": {},
   "outputs": [],
   "source": []
  }
 ]
}